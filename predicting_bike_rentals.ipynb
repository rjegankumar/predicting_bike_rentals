{
 "cells": [
  {
   "cell_type": "markdown",
   "metadata": {
    "collapsed": true
   },
   "source": [
    "# Predicting Bike Rentals"
   ]
  },
  {
   "cell_type": "markdown",
   "metadata": {},
   "source": [
    "## Introduction\n",
    "\n",
    "Many American cities have communal bike sharing stations where you can rent bicycles by the hour or day. Washington, D.C. is one of these cities. The District collects detailed data on the number of bicycles people rent by the hour and day.\n",
    "\n",
    "Hadi Fanaee-T at the University of Porto compiled this data into a CSV file. The file contains 17380 rows, with each row representing the number of bike rentals for a single hour of a single day. You can download the data from the [University of California, Irvine's website](http://archive.ics.uci.edu/ml/datasets/Bike+Sharing+Dataset).\n",
    "\n",
    "Here are the descriptions for the relevant columns:\n",
    "\n",
    "* instant - A unique sequential ID number for each row\n",
    "* dteday - The date of the rentals\n",
    "* season - The season in which the rentals occurred\n",
    "* yr - The year the rentals occurred\n",
    "* mnth - The month the rentals occurred\n",
    "* hr - The hour the rentals occurred\n",
    "* holiday - Whether or not the day was a holiday\n",
    "* weekday - Whether or not the day was a weekday\n",
    "* workingday - Whether or not the day was a working day\n",
    "* weathersit - The weather (as a categorical variable)\n",
    "* temp - The temperature, on a 0-1 scale\n",
    "* atemp - The adjusted temperature\n",
    "* hum - The humidity, on a 0-1 scale\n",
    "* windspeed - The wind speed, on a 0-1 scale\n",
    "* casual - The number of casual riders (people who hadn't previously signed up with the bike sharing program)\n",
    "* registered - The number of registered riders (people who had already signed up)\n",
    "* cnt - The total number of bike rentals (casual + registered)\n",
    "\n",
    "We'll try to predict the total number of bikes people rented in a given hour."
   ]
  },
  {
   "cell_type": "markdown",
   "metadata": {},
   "source": [
    "## Reading in and exploring the data"
   ]
  },
  {
   "cell_type": "code",
   "execution_count": 302,
   "metadata": {
    "collapsed": true
   },
   "outputs": [],
   "source": [
    "#importing required libraries\n",
    "import pandas as pd\n",
    "import numpy as np\n",
    "import matplotlib.pyplot as plt"
   ]
  },
  {
   "cell_type": "code",
   "execution_count": 303,
   "metadata": {
    "collapsed": true
   },
   "outputs": [],
   "source": [
    "#reading in bike_rental_hour.csv as a pandas dataframe\n",
    "bike_rentals = pd.read_csv('bike_rental_hour.csv')"
   ]
  },
  {
   "cell_type": "code",
   "execution_count": 304,
   "metadata": {
    "collapsed": false
   },
   "outputs": [
    {
     "name": "stdout",
     "output_type": "stream",
     "text": [
      "   instant      dteday  season  yr  mnth  hr  holiday  weekday  workingday  \\\n",
      "0        1  2011-01-01       1   0     1   0        0        6           0   \n",
      "1        2  2011-01-01       1   0     1   1        0        6           0   \n",
      "2        3  2011-01-01       1   0     1   2        0        6           0   \n",
      "3        4  2011-01-01       1   0     1   3        0        6           0   \n",
      "4        5  2011-01-01       1   0     1   4        0        6           0   \n",
      "\n",
      "   weathersit  temp   atemp   hum  windspeed  casual  registered  cnt  \n",
      "0           1  0.24  0.2879  0.81        0.0       3          13   16  \n",
      "1           1  0.22  0.2727  0.80        0.0       8          32   40  \n",
      "2           1  0.22  0.2727  0.80        0.0       5          27   32  \n",
      "3           1  0.24  0.2879  0.75        0.0       3          10   13  \n",
      "4           1  0.24  0.2879  0.75        0.0       0           1    1  \n"
     ]
    }
   ],
   "source": [
    "#displaying the first five rows of the bike_rentals dataframe\n",
    "print(bike_rentals.head())"
   ]
  },
  {
   "cell_type": "code",
   "execution_count": 305,
   "metadata": {
    "collapsed": false
   },
   "outputs": [
    {
     "data": {
      "image/png": "[encoded data removed]",
      "text/plain": [
       "<matplotlib.figure.Figure at 0x110945358>"
      ]
     },
     "metadata": {},
     "output_type": "display_data"
    }
   ],
   "source": [
    "#plotting the histogram of bike rentals per hour column\n",
    "bike_rentals.plot(y='cnt', kind='hist', title='Distribution of bike rentals per hour in Washington, D.C.', \\\n",
    "                  xlim=(0,1000), figsize=(8,6))\n",
    "plt.show()"
   ]
  },
  {
   "cell_type": "code",
   "execution_count": 306,
   "metadata": {
    "collapsed": false
   },
   "outputs": [
    {
     "data": {
      "text/plain": [
       "count    17379.000000\n",
       "mean       189.463088\n",
       "std        181.387599\n",
       "min          1.000000\n",
       "25%         40.000000\n",
       "50%        142.000000\n",
       "75%        281.000000\n",
       "max        977.000000\n",
       "Name: cnt, dtype: float64"
      ]
     },
     "execution_count": 306,
     "metadata": {},
     "output_type": "execute_result"
    }
   ],
   "source": [
    "#computing some descriptive stats of bike rentals per hr\n",
    "bike_rentals['cnt'].describe()"
   ]
  },
  {
   "cell_type": "code",
   "execution_count": 307,
   "metadata": {
    "collapsed": false
   },
   "outputs": [
    {
     "data": {
      "text/plain": [
       "instant       0.278379\n",
       "season        0.178056\n",
       "yr            0.250495\n",
       "mnth          0.120638\n",
       "hr            0.394071\n",
       "holiday      -0.030927\n",
       "weekday       0.026900\n",
       "workingday    0.030284\n",
       "weathersit   -0.142426\n",
       "temp          0.404772\n",
       "atemp         0.400929\n",
       "hum          -0.322911\n",
       "windspeed     0.093234\n",
       "casual        0.694564\n",
       "registered    0.972151\n",
       "cnt           1.000000\n",
       "Name: cnt, dtype: float64"
      ]
     },
     "execution_count": 307,
     "metadata": {},
     "output_type": "execute_result"
    }
   ],
   "source": [
    "#computing correlations between the bike rentals per hour and the other columns\n",
    "bike_rentals.corr()['cnt']"
   ]
  },
  {
   "cell_type": "markdown",
   "metadata": {},
   "source": [
    "## Calculating features"
   ]
  },
  {
   "cell_type": "code",
   "execution_count": 308,
   "metadata": {
    "collapsed": false
   },
   "outputs": [],
   "source": [
    "#creating a function to take in a numerical value of hour and return a categorical value\n",
    "def assign_label(hr_num):\n",
    "    hr_dict = {\n",
    "        1: [6, 12],\n",
    "        2: [12, 18],\n",
    "        3: [18, 24],\n",
    "        4: [0, 6]\n",
    "    }\n",
    "    for key in hr_dict:\n",
    "        if hr_num >= hr_dict[key][0] and hr_num <= hr_dict[key][1]:\n",
    "            return key"
   ]
  },
  {
   "cell_type": "code",
   "execution_count": 309,
   "metadata": {
    "collapsed": true
   },
   "outputs": [],
   "source": [
    "#applying the above function to the hr column in bike_rentals\n",
    "bike_rentals['time_label'] = bike_rentals['hr'].apply(assign_label)"
   ]
  },
  {
   "cell_type": "code",
   "execution_count": 310,
   "metadata": {
    "collapsed": false
   },
   "outputs": [
    {
     "data": {
      "text/html": [
       "<div>\n",
       "<table border=\"1\" class=\"dataframe\">\n",
       "  <thead>\n",
       "    <tr style=\"text-align: right;\">\n",
       "      <th></th>\n",
       "      <th>hr</th>\n",
       "      <th>time_label</th>\n",
       "    </tr>\n",
       "  </thead>\n",
       "  <tbody>\n",
       "    <tr>\n",
       "      <th>0</th>\n",
       "      <td>0</td>\n",
       "      <td>4</td>\n",
       "    </tr>\n",
       "    <tr>\n",
       "      <th>1</th>\n",
       "      <td>1</td>\n",
       "      <td>4</td>\n",
       "    </tr>\n",
       "    <tr>\n",
       "      <th>2</th>\n",
       "      <td>2</td>\n",
       "      <td>4</td>\n",
       "    </tr>\n",
       "    <tr>\n",
       "      <th>3</th>\n",
       "      <td>3</td>\n",
       "      <td>4</td>\n",
       "    </tr>\n",
       "    <tr>\n",
       "      <th>4</th>\n",
       "      <td>4</td>\n",
       "      <td>4</td>\n",
       "    </tr>\n",
       "  </tbody>\n",
       "</table>\n",
       "</div>"
      ],
      "text/plain": [
       "   hr  time_label\n",
       "0   0           4\n",
       "1   1           4\n",
       "2   2           4\n",
       "3   3           4\n",
       "4   4           4"
      ]
     },
     "execution_count": 310,
     "metadata": {},
     "output_type": "execute_result"
    }
   ],
   "source": [
    "#validating the correct execution of numeric to categorical conversion of hr\n",
    "bike_rentals[['hr','time_label']].head()"
   ]
  },
  {
   "cell_type": "markdown",
   "metadata": {},
   "source": [
    "## Selecting an error metric\n",
    "\n",
    "Mean Squared Error (MSE) or Mean Absolute Error (MAE) are good error metrics to measure prediction performance for this particular continuous dataset. Though MAE is easily interpretable, MSE penalizes more for inaccuracies. Let's go ahead with MSE as the error metric."
   ]
  },
  {
   "cell_type": "markdown",
   "metadata": {},
   "source": [
    "## Randomly selecting training and test data"
   ]
  },
  {
   "cell_type": "code",
   "execution_count": 311,
   "metadata": {
    "collapsed": true
   },
   "outputs": [],
   "source": [
    "#assigning 80% of a randomly sampled bike_rentals dataset to train and rest 20% to test\n",
    "train = bike_rentals.sample(frac=0.8, random_state=5)\n",
    "test = bike_rentals.loc[~bike_rentals.index.isin(train.index)]"
   ]
  },
  {
   "cell_type": "code",
   "execution_count": 312,
   "metadata": {
    "collapsed": false
   },
   "outputs": [
    {
     "name": "stdout",
     "output_type": "stream",
     "text": [
      "       instant      dteday  season  yr  mnth  hr  holiday  weekday  \\\n",
      "4707      4708  2011-07-20       3   0     7   1        0        3   \n",
      "13755    13756  2012-08-01       3   1     8   8        0        3   \n",
      "10794    10795  2012-03-30       2   1     3  21        0        5   \n",
      "7665      7666  2011-11-21       4   0    11   0        0        1   \n",
      "9751      9752  2012-02-16       1   1     2   6        0        4   \n",
      "\n",
      "       workingday  weathersit  temp   atemp   hum  windspeed  casual  \\\n",
      "4707            1           1  0.70  0.6667  0.84     0.0000       4   \n",
      "13755           1           2  0.66  0.6061  0.78     0.1940      32   \n",
      "10794           1           1  0.38  0.3939  0.66     0.1343      30   \n",
      "7665            1           2  0.46  0.4545  0.94     0.0000       4   \n",
      "9751            1           2  0.30  0.3182  0.70     0.0896       4   \n",
      "\n",
      "       registered  cnt  time_label  \n",
      "4707            7   11           4  \n",
      "13755         649  681           1  \n",
      "10794         190  220           3  \n",
      "7665           13   17           4  \n",
      "9751           83   87           1  \n"
     ]
    }
   ],
   "source": [
    "#displaying the first five rows of the train dataframe\n",
    "print(train.head())"
   ]
  },
  {
   "cell_type": "code",
   "execution_count": 313,
   "metadata": {
    "collapsed": false
   },
   "outputs": [
    {
     "name": "stdout",
     "output_type": "stream",
     "text": [
      "    instant      dteday  season  yr  mnth  hr  holiday  weekday  workingday  \\\n",
      "3         4  2011-01-01       1   0     1   3        0        6           0   \n",
      "10       11  2011-01-01       1   0     1  10        0        6           0   \n",
      "16       17  2011-01-01       1   0     1  16        0        6           0   \n",
      "18       19  2011-01-01       1   0     1  18        0        6           0   \n",
      "22       23  2011-01-01       1   0     1  22        0        6           0   \n",
      "\n",
      "    weathersit  temp   atemp   hum  windspeed  casual  registered  cnt  \\\n",
      "3            1  0.24  0.2879  0.75     0.0000       3          10   13   \n",
      "10           1  0.38  0.3939  0.76     0.2537      12          24   36   \n",
      "16           2  0.42  0.4242  0.82     0.2985      41          52   93   \n",
      "18           3  0.42  0.4242  0.88     0.2537       9          26   35   \n",
      "22           2  0.40  0.4091  0.94     0.2239      11          17   28   \n",
      "\n",
      "    time_label  \n",
      "3            4  \n",
      "10           1  \n",
      "16           2  \n",
      "18           2  \n",
      "22           3  \n"
     ]
    }
   ],
   "source": [
    "#displaying the first five rows of the test dataframe\n",
    "print(test.head())"
   ]
  },
  {
   "cell_type": "markdown",
   "metadata": {},
   "source": [
    "## Predictions using Linear Regression"
   ]
  },
  {
   "cell_type": "code",
   "execution_count": 314,
   "metadata": {
    "collapsed": true
   },
   "outputs": [],
   "source": [
    "#importing LinearRegression and mean_squared_error classes from scikit-learn\n",
    "from sklearn.linear_model import LinearRegression\n",
    "from sklearn.metrics import mean_squared_error"
   ]
  },
  {
   "cell_type": "code",
   "execution_count": 315,
   "metadata": {
    "collapsed": false
   },
   "outputs": [
    {
     "name": "stdout",
     "output_type": "stream",
     "text": [
      "19059.3491801\n"
     ]
    },
    {
     "name": "stderr",
     "output_type": "stream",
     "text": [
      "/Users/jeganram/anaconda/lib/python3.5/site-packages/ipykernel/__main__.py:6: SettingWithCopyWarning: \n",
      "A value is trying to be set on a copy of a slice from a DataFrame.\n",
      "Try using .loc[row_indexer,col_indexer] = value instead\n",
      "\n",
      "See the caveats in the documentation: http://pandas.pydata.org/pandas-docs/stable/indexing.html#indexing-view-versus-copy\n"
     ]
    }
   ],
   "source": [
    "#selecting features for the linear regression model, predicting bike rentals per hour and measuring model accuracy\n",
    "predictor_columns = ['season','yr','hr','temp','hum']\n",
    "\n",
    "lr = LinearRegression()\n",
    "lr.fit(train[predictor_columns], train['cnt'])\n",
    "test['lr_cnt_predictions'] = lr.predict(test[predictor_columns])\n",
    "\n",
    "mse_lr = mean_squared_error(test['cnt'], test['lr_cnt_predictions'])\n",
    "print(mse_lr)"
   ]
  },
  {
   "cell_type": "markdown",
   "metadata": {},
   "source": [
    "The MSE is pretty high due to the fact that counts are mostly lower, but with a few very high values i.e. the data is skewed. MSE penalizes large errors."
   ]
  },
  {
   "cell_type": "markdown",
   "metadata": {},
   "source": [
    "## Predictions using Decision Trees"
   ]
  },
  {
   "cell_type": "code",
   "execution_count": 316,
   "metadata": {
    "collapsed": true
   },
   "outputs": [],
   "source": [
    "#importing DecisionTreeRegressor class from scikit-learn\n",
    "from sklearn.tree import DecisionTreeRegressor"
   ]
  },
  {
   "cell_type": "code",
   "execution_count": 317,
   "metadata": {
    "collapsed": false
   },
   "outputs": [
    {
     "name": "stdout",
     "output_type": "stream",
     "text": [
      "7703.46436753\n"
     ]
    },
    {
     "name": "stderr",
     "output_type": "stream",
     "text": [
      "/Users/jeganram/anaconda/lib/python3.5/site-packages/ipykernel/__main__.py:4: SettingWithCopyWarning: \n",
      "A value is trying to be set on a copy of a slice from a DataFrame.\n",
      "Try using .loc[row_indexer,col_indexer] = value instead\n",
      "\n",
      "See the caveats in the documentation: http://pandas.pydata.org/pandas-docs/stable/indexing.html#indexing-view-versus-copy\n"
     ]
    }
   ],
   "source": [
    "#making predictions using decision trees and measuring prediction error for evaluation\n",
    "dt = DecisionTreeRegressor(max_depth=11, min_samples_leaf=7)\n",
    "dt.fit(train[predictor_columns], train['cnt'])\n",
    "test['dt_cnt_predictions'] = dt.predict(test[predictor_columns])\n",
    "\n",
    "mse_dt = mean_squared_error(test['cnt'], test['dt_cnt_predictions'])\n",
    "print(mse_dt)"
   ]
  },
  {
   "cell_type": "markdown",
   "metadata": {},
   "source": [
    "The prediction error has considerably reduced after using the decision tree model that takes into account the non-linearity in the data."
   ]
  },
  {
   "cell_type": "markdown",
   "metadata": {},
   "source": [
    "## Predictions using Random Forests"
   ]
  },
  {
   "cell_type": "code",
   "execution_count": 318,
   "metadata": {
    "collapsed": true
   },
   "outputs": [],
   "source": [
    "#importing DecisionTreeRegressor class from scikit-learn\n",
    "from sklearn.ensemble import RandomForestRegressor"
   ]
  },
  {
   "cell_type": "code",
   "execution_count": 319,
   "metadata": {
    "collapsed": false
   },
   "outputs": [
    {
     "name": "stdout",
     "output_type": "stream",
     "text": [
      "7169.31287327\n"
     ]
    },
    {
     "name": "stderr",
     "output_type": "stream",
     "text": [
      "/Users/jeganram/anaconda/lib/python3.5/site-packages/ipykernel/__main__.py:4: SettingWithCopyWarning: \n",
      "A value is trying to be set on a copy of a slice from a DataFrame.\n",
      "Try using .loc[row_indexer,col_indexer] = value instead\n",
      "\n",
      "See the caveats in the documentation: http://pandas.pydata.org/pandas-docs/stable/indexing.html#indexing-view-versus-copy\n"
     ]
    }
   ],
   "source": [
    "#making predictions using random forests and measuring prediction error for evaluation\n",
    "rf = RandomForestRegressor(n_estimators=56, max_depth=12, min_samples_leaf=6, max_features=3 ,random_state=8)\n",
    "rf.fit(train[predictor_columns], train['cnt'])\n",
    "test['rf_cnt_predictions'] = rf.predict(test[predictor_columns])\n",
    "\n",
    "mse_rf = mean_squared_error(test['cnt'], test['rf_cnt_predictions'])\n",
    "print(mse_rf)"
   ]
  },
  {
   "cell_type": "markdown",
   "metadata": {},
   "source": [
    "The prediction error using random forests is relatively less than decision trees due to reduction in overfitting."
   ]
  },
  {
   "cell_type": "markdown",
   "metadata": {},
   "source": [
    "## Potential next steps\n",
    "\n",
    "* Calculate additional features, such as an index combining temperature, humidity, and wind speed.\n",
    "* Try predicting casual and registered instead of cnt."
   ]
  }
 ],
 "metadata": {
  "kernelspec": {
   "display_name": "Python [default]",
   "language": "python",
   "name": "python3"
  },
  "language_info": {
   "codemirror_mode": {
    "name": "ipython",
    "version": 3
   },
   "file_extension": ".py",
   "mimetype": "text/x-python",
   "name": "python",
   "nbconvert_exporter": "python",
   "pygments_lexer": "ipython3",
   "version": "3.5.2"
  }
 },
 "nbformat": 4,
 "nbformat_minor": 0
}
